{
 "cells": [
  {
   "cell_type": "code",
   "execution_count": 10,
   "metadata": {},
   "outputs": [],
   "source": [
    "from bs4 import BeautifulSoup\n",
    "from requests import get\n",
    "import time\n",
    "from time import sleep\n",
    "from time import time\n",
    "import random\n",
    "import sqlite3\n",
    "import re \n",
    "from datetime import datetime \n",
    "import requests\n",
    "import pandas as pd\n",
    "import numpy as np\n",
    "from datetime import date"
   ]
  },
  {
   "cell_type": "code",
   "execution_count": 11,
   "metadata": {
    "scrolled": true
   },
   "outputs": [
    {
     "name": "stdout",
     "output_type": "stream",
     "text": [
      "1\n",
      "2\n",
      "3\n",
      "4\n",
      "5\n",
      "6\n",
      "7\n",
      "8\n",
      "9\n",
      "10\n",
      "11\n",
      "12\n",
      "13\n",
      "14\n",
      "15\n",
      "16\n",
      "17\n",
      "18\n",
      "19\n",
      "20\n"
     ]
    }
   ],
   "source": [
    "i=1\n",
    "links=[]\n",
    "while True:\n",
    "    print(i)\n",
    "    url=\"http://www.tunisie-annonce.com/AnnoncesAuto.asp?rech_cod_cat=2&rech_cod_rub=&rech_cod_typ=&rech_cod_sou_typ=&rech_cod_pay=TN&rech_cod_reg=&rech_cod_vil=&rech_cod_loc=&rech_prix_min=&rech_prix_max=&rech_surf_min=&rech_surf_max=&rech_age=&rech_cod_energ=&rech_photo=&rech_order_by=31&rech_page_num=\"\n",
    "    r = requests.get(url+str(i))\n",
    "    soup = BeautifulSoup(r.text, \"html.parser\")\n",
    "    ll=soup.findAll(class_=\"Tableau1\")\n",
    "    if len(ll)==0:\n",
    "        break\n",
    "    for l in ll:\n",
    "        links.append(l.find('a').get('href'))\n",
    "    i+=1"
   ]
  },
  {
   "cell_type": "code",
   "execution_count": 12,
   "metadata": {},
   "outputs": [],
   "source": [
    "links=[]"
   ]
  },
  {
   "cell_type": "code",
   "execution_count": 14,
   "metadata": {
    "scrolled": true
   },
   "outputs": [],
   "source": [
    "df=pd.DataFrame()\n",
    "i=0\n",
    "for url in links:\n",
    "    print(i,'/',len(links))\n",
    "    df.loc[i,'lien']=url\n",
    "    r = requests.get(url)\n",
    "    soup = BeautifulSoup(r.text, \"html.parser\")\n",
    "    try :\n",
    "        ll=soup.find('ul',class_=\"da_label_field\").text.split('\\n')\n",
    "        for k in range(len(ll)):\n",
    "            if ':' in ll[k]:\n",
    "                df.loc[i,ll[k].replace(':','')]=ll[k+1]\n",
    "    except :\n",
    "        print(\"stopped\")\n",
    "        pass\n",
    "    try :\n",
    "        df.loc[i,'Mise en Circulation']=soup.find('span',class_='da_label_field2')\n",
    "    except :\n",
    "        print(\"stopped\")\n",
    "        pass\n",
    "    try:\n",
    "        df.loc[i,'Prix']=soup.find('div',class_='col-md-3 prixUsed').text.split(': ')[-1].replace(' ','').replace('DT','')\n",
    "    except:\n",
    "        print(\"stopped\")\n",
    "        pass\n",
    "    i+=1"
   ]
  },
  {
   "cell_type": "code",
   "execution_count": 15,
   "metadata": {},
   "outputs": [
    {
     "data": {
      "text/html": [
       "<div>\n",
       "<style scoped>\n",
       "    .dataframe tbody tr th:only-of-type {\n",
       "        vertical-align: middle;\n",
       "    }\n",
       "\n",
       "    .dataframe tbody tr th {\n",
       "        vertical-align: top;\n",
       "    }\n",
       "\n",
       "    .dataframe thead th {\n",
       "        text-align: right;\n",
       "    }\n",
       "</style>\n",
       "<table border=\"1\" class=\"dataframe\">\n",
       "  <thead>\n",
       "    <tr style=\"text-align: right;\">\n",
       "      <th></th>\n",
       "    </tr>\n",
       "  </thead>\n",
       "  <tbody>\n",
       "  </tbody>\n",
       "</table>\n",
       "</div>"
      ],
      "text/plain": [
       "Empty DataFrame\n",
       "Columns: []\n",
       "Index: []"
      ]
     },
     "execution_count": 15,
     "metadata": {},
     "output_type": "execute_result"
    }
   ],
   "source": [
    "df"
   ]
  },
  {
   "cell_type": "code",
   "execution_count": 10,
   "metadata": {},
   "outputs": [],
   "source": [
    "df.to_csv('autoplus.csv')"
   ]
  },
  {
   "cell_type": "code",
   "execution_count": 14,
   "metadata": {},
   "outputs": [],
   "source": [
    "df=pd.read_csv(r'C:\\Users\\Bouhejba\\Desktop\\projet\\autoplus.csv')"
   ]
  }
 ],
 "metadata": {
  "kernelspec": {
   "display_name": "Python 3",
   "language": "python",
   "name": "python3"
  },
  "language_info": {
   "codemirror_mode": {
    "name": "ipython",
    "version": 3
   },
   "file_extension": ".py",
   "mimetype": "text/x-python",
   "name": "python",
   "nbconvert_exporter": "python",
   "pygments_lexer": "ipython3",
   "version": "3.8.8"
  }
 },
 "nbformat": 4,
 "nbformat_minor": 2
}
